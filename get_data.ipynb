{
 "cells": [
  {
   "cell_type": "code",
   "execution_count": 1,
   "metadata": {
    "collapsed": true
   },
   "outputs": [],
   "source": [
    "import pandas as pd\n",
    "import os\n",
    "import cv2"
   ]
  },
  {
   "cell_type": "markdown",
   "metadata": {},
   "source": [
    "image_name[LETTER] x_box_min y_box_min x_box_max y_box_max x1 y1 x2 y2 x3 y3 ..."
   ]
  },
  {
   "cell_type": "code",
   "execution_count": 30,
   "metadata": {
    "collapsed": true
   },
   "outputs": [],
   "source": [
    "train_data = pd.read_json(\"/media/bnrc2/_backup/ai/ai_challenger_keypoint_train_20170902/keypoint_train_annotations_20170909.json\")"
   ]
  },
  {
   "cell_type": "code",
   "execution_count": 31,
   "metadata": {
    "collapsed": true
   },
   "outputs": [],
   "source": [
    "data_txt = open(\"/media/bnrc2/_backup/dataset/aiclg/train_mini.txt\",\"w\")\n",
    "imgdir = \"/media/bnrc2/_backup/ai/ai_challenger_keypoint_train_20170902/keypoint_train_images_20170902/\"\n",
    "dic = dict()\n",
    "dic[0] = 'A'\n",
    "dic[1] = 'B'\n",
    "dic[2] = 'C'\n",
    "dic[3] = 'D'\n",
    "dic[4] = 'E'\n",
    "dic[5] = 'F'\n",
    "dic[6] = 'G'\n",
    "dic[7] = 'H'\n",
    "dic[8] = 'I'\n",
    "dic[9] = 'J'\n",
    "dic[10] = 'K'\n",
    "\n"
   ]
  },
  {
   "cell_type": "code",
   "execution_count": 32,
   "metadata": {
    "collapsed": true
   },
   "outputs": [],
   "source": [
    "lst = []"
   ]
  },
  {
   "cell_type": "code",
   "execution_count": 33,
   "metadata": {},
   "outputs": [
    {
     "name": "stdout",
     "output_type": "stream",
     "text": [
      "0 is done !\n"
     ]
    }
   ],
   "source": [
    "for index, row in train_data.iterrows():\n",
    "    anno = row[\"human_annotations\"]\n",
    "            #         if(len(anno.keys())  == 1):\n",
    "            #             continue\n",
    "#     if row[\"image_id\"] != \"0620a3427aa95c1ed8e853c2c2796078a0898077\":\n",
    "#         continue\n",
    "    img_path = os.path.join(imgdir, row[\"image_id\"] + \".jpg\")\n",
    "\n",
    "    img = cv2.imread(img_path)\n",
    "\n",
    "    w, h = img.shape[1], img.shape[0]\n",
    "    keypoint = row[\"keypoint_annotations\"]\n",
    "    ib = 0\n",
    "    if(len(anno.keys()) >= 10):\n",
    "        continue\n",
    "    for key in anno.keys():    \n",
    "        if (anno[key][0] >= anno[key][2] or anno[key][1] >= anno[key][3]):\n",
    "            print(img_path)\n",
    "            continue\n",
    "        \n",
    "        x1, y1, x2, y2 = anno[key][0], anno[key][1], anno[key][2], anno[key][3]\n",
    "        s = str(row[\"image_id\"]) + \".jpg\"+str(dic[ib])+\" \"+str(x1)+\" \"+str(y1)+\" \"+str(x2)+\" \"+str(y2)\n",
    "        ankle = keypoint[key].copy()\n",
    "        for i in range(13):\n",
    "            if ankle[i*3 + 2] == 3:\n",
    "                s += \" \" + str(-1) + \" \"+ str(-1) \n",
    "            else:    \n",
    "                s += \" \" + str(ankle[i*3]) + \" \"+ str(ankle[i*3 + 1]) \n",
    "        s += \" \"+str(ankle[-3]) +\" \"+str(ankle[-2])\n",
    "        data_txt.write(s)\n",
    "        data_txt.write(\"\\n\")\n",
    "        lst.append(s)\n",
    "        #print(s)\n",
    "        ib += 1\n",
    "    if index % 1000 == 0:\n",
    "        print(str(index) + \" is done !\")\n",
    "    if index > 100:\n",
    "        break\n",
    "    "
   ]
  },
  {
   "cell_type": "code",
   "execution_count": 26,
   "metadata": {
    "collapsed": true
   },
   "outputs": [],
   "source": [
    "data_txt.close()"
   ]
  },
  {
   "cell_type": "code",
   "execution_count": 27,
   "metadata": {
    "collapsed": true
   },
   "outputs": [],
   "source": [
    "valid_data = pd.read_json(\"/media/bnrc2/_backup/ai/ai_challenger_keypoint_validation_20170911/keypoint_validation_annotations_20170911.json\")"
   ]
  },
  {
   "cell_type": "code",
   "execution_count": 28,
   "metadata": {
    "collapsed": true
   },
   "outputs": [],
   "source": [
    "data_txt = open(\"/media/bnrc2/_backup/dataset/aiclg/valid_mini.txt\",\"w\")\n",
    "imgdir = \"/media/bnrc2/_backup/ai/ai_challenger_keypoint_validation_20170911/keypoint_validation_images_20170911/\"\n",
    "dic = dict()\n",
    "dic[0] = 'A'\n",
    "dic[1] = 'B'\n",
    "dic[2] = 'C'\n",
    "dic[3] = 'D'\n",
    "dic[4] = 'E'\n",
    "dic[5] = 'F'\n",
    "dic[6] = 'G'\n",
    "dic[7] = 'H'\n",
    "dic[8] = 'I'\n",
    "dic[9] = 'J'\n",
    "dic[10] = 'K'\n",
    "\n"
   ]
  },
  {
   "cell_type": "code",
   "execution_count": 29,
   "metadata": {},
   "outputs": [
    {
     "name": "stdout",
     "output_type": "stream",
     "text": [
      "0 is done !\n"
     ]
    }
   ],
   "source": [
    "for index, row in valid_data.iterrows():\n",
    "    anno = row[\"human_annotations\"]\n",
    "            #         if(len(anno.keys())  == 1):\n",
    "            #             continue\n",
    "#     if row[\"image_id\"] != \"0620a3427aa95c1ed8e853c2c2796078a0898077\":\n",
    "#         continue\n",
    "    img_path = os.path.join(imgdir, row[\"image_id\"] + \".jpg\")\n",
    "#     print(img_path)\n",
    "    img = cv2.imread(img_path)\n",
    "\n",
    "    w, h = img.shape[1], img.shape[0]\n",
    "    keypoint = row[\"keypoint_annotations\"]\n",
    "    ib = 0\n",
    "    if(len(anno.keys()) >= 10):\n",
    "        continue\n",
    "    for key in anno.keys():    \n",
    "        if (anno[key][0] >= anno[key][2] or anno[key][1] >= anno[key][3]):\n",
    "            print(img_path)\n",
    "            continue\n",
    "        \n",
    "        x1, y1, x2, y2 = anno[key][0], anno[key][1], anno[key][2], anno[key][3]\n",
    "        s = str(row[\"image_id\"]) + \".jpg\"+str(dic[ib])+\" \"+str(x1)+\" \"+str(y1)+\" \"+str(x2)+\" \"+str(y2)\n",
    "        ankle = keypoint[key].copy()\n",
    "        for i in range(13):\n",
    "            if ankle[i*3 + 2] == 3:\n",
    "                s += \" \" + str(-1) + \" \"+ str(-1) \n",
    "            else:    \n",
    "                s += \" \" + str(ankle[i*3]) + \" \"+ str(ankle[i*3 + 1]) \n",
    "        s += \" \"+str(ankle[-3]) +\" \"+str(ankle[-2])\n",
    "        data_txt.write(s)\n",
    "        data_txt.write(\"\\n\")\n",
    "        #print(s)\n",
    "        ib += 1\n",
    "    if index % 1000 == 0:\n",
    "        print(str(index) + \" is done !\")\n",
    "    if index > 100:\n",
    "        break\n",
    "    "
   ]
  },
  {
   "cell_type": "code",
   "execution_count": 12,
   "metadata": {
    "collapsed": true
   },
   "outputs": [],
   "source": [
    "import random"
   ]
  },
  {
   "cell_type": "code",
   "execution_count": 13,
   "metadata": {
    "collapsed": true
   },
   "outputs": [],
   "source": [
    "lst = random.shuffle(lst)"
   ]
  },
  {
   "cell_type": "code",
   "execution_count": 14,
   "metadata": {},
   "outputs": [
    {
     "ename": "TypeError",
     "evalue": "'NoneType' object is not subscriptable",
     "output_type": "error",
     "traceback": [
      "\u001b[0;31m---------------------------------------------------------------------------\u001b[0m",
      "\u001b[0;31mTypeError\u001b[0m                                 Traceback (most recent call last)",
      "\u001b[0;32m<ipython-input-14-0d003e18fe2d>\u001b[0m in \u001b[0;36m<module>\u001b[0;34m()\u001b[0m\n\u001b[0;32m----> 1\u001b[0;31m \u001b[0mtrain_sup\u001b[0m \u001b[0;34m=\u001b[0m \u001b[0mlst\u001b[0m\u001b[0;34m[\u001b[0m\u001b[0;34m:\u001b[0m\u001b[0;34m-\u001b[0m\u001b[0;36m10000\u001b[0m\u001b[0;34m]\u001b[0m\u001b[0;34m\u001b[0m\u001b[0m\n\u001b[0m",
      "\u001b[0;31mTypeError\u001b[0m: 'NoneType' object is not subscriptable"
     ]
    }
   ],
   "source": [
    "train_sup = lst[:-10000]"
   ]
  },
  {
   "cell_type": "code",
   "execution_count": 34,
   "metadata": {
    "collapsed": true
   },
   "outputs": [],
   "source": [
    "lst = []\n",
    "with open(\"/media/bnrc2/_backup/dataset/aiclg/train_mini.txt\") as f:\n",
    "    for i in f.readlines():\n",
    "        lst.append(i)"
   ]
  },
  {
   "cell_type": "code",
   "execution_count": null,
   "metadata": {
    "collapsed": true
   },
   "outputs": [],
   "source": []
  }
 ],
 "metadata": {
  "kernelspec": {
   "display_name": "Python [conda env:tf14]",
   "language": "python",
   "name": "conda-env-tf14-py"
  },
  "language_info": {
   "codemirror_mode": {
    "name": "ipython",
    "version": 3
   },
   "file_extension": ".py",
   "mimetype": "text/x-python",
   "name": "python",
   "nbconvert_exporter": "python",
   "pygments_lexer": "ipython3",
   "version": "3.5.4"
  }
 },
 "nbformat": 4,
 "nbformat_minor": 2
}
