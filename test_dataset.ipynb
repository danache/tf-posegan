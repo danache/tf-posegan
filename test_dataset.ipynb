{
 "cells": [
  {
   "cell_type": "code",
   "execution_count": 1,
   "metadata": {},
   "outputs": [
    {
     "name": "stdout",
     "output_type": "stream",
     "text": [
      "READING TRAIN DATA\n",
      "SET CREATED\n",
      "--Training set : 377616  samples.\n"
     ]
    }
   ],
   "source": [
    "from dataGenerator.datagen_v3 import DataGenerator\n",
    "\n",
    "import tensorflow as tf\n",
    "\n",
    "train_data = DataGenerator(imgdir=\"/media/bnrc2/_backup/ai/ai_challenger_keypoint_train_20170902/keypoint_train_images_20170902/\",\n",
    "                           txt=\"/media/bnrc2/_backup/dataset/aiclg/data.txt\", \n",
    "                           batch_size=16, is_aug=False,\n",
    "                           joints_name=[\"rShoulder\", \"rElbow\", \"rWrist\", \"lShoulder\", \"lElbow\", \"lWrist\", \"rhip\",\"rknee\",\"rankle\",\n",
    "                       \"lhip\",\"lknee\",\"lankle\",\"head\",\"neck\"]) \n",
    "\n",
    "data_get = train_data.get_batch_generator\n"
   ]
  },
  {
   "cell_type": "code",
   "execution_count": 2,
   "metadata": {},
   "outputs": [],
   "source": [
    "import tensorflow as tf"
   ]
  },
  {
   "cell_type": "code",
   "execution_count": null,
   "metadata": {},
   "outputs": [],
   "source": []
  },
  {
   "cell_type": "code",
   "execution_count": 3,
   "metadata": {},
   "outputs": [],
   "source": [
    "\n",
    "ds = tf.data.Dataset.from_generator(\n",
    "    data_get, (tf.float32, tf.float32,tf.int32,tf.float32), )\n",
    "value = ds.make_one_shot_iterator().get_next()\n"
   ]
  },
  {
   "cell_type": "code",
   "execution_count": 6,
   "metadata": {},
   "outputs": [
    {
     "name": "stdout",
     "output_type": "stream",
     "text": [
      "4\n"
     ]
    }
   ],
   "source": [
    "with tf.Session() as sess:\n",
    "    a = sess.run(value)\n",
    "    print(len(a))"
   ]
  },
  {
   "cell_type": "code",
   "execution_count": 10,
   "metadata": {},
   "outputs": [
    {
     "name": "stdout",
     "output_type": "stream",
     "text": [
      "[ 909.  411.]\n",
      "[265 482]\n"
     ]
    }
   ],
   "source": [
    "print(a[3])\n",
    "print(a[2])\n"
   ]
  },
  {
   "cell_type": "code",
   "execution_count": null,
   "metadata": {
    "collapsed": true
   },
   "outputs": [],
   "source": []
  }
 ],
 "metadata": {
  "kernelspec": {
   "display_name": "Python [conda env:tf14]",
   "language": "python",
   "name": "conda-env-tf14-py"
  },
  "language_info": {
   "codemirror_mode": {
    "name": "ipython",
    "version": 3
   },
   "file_extension": ".py",
   "mimetype": "text/x-python",
   "name": "python",
   "nbconvert_exporter": "python",
   "pygments_lexer": "ipython3",
   "version": "3.5.4"
  }
 },
 "nbformat": 4,
 "nbformat_minor": 2
}
